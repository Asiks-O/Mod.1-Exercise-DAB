{
 "cells": [
  {
   "cell_type": "markdown",
   "metadata": {},
   "source": [
    "# Module 1 Exercises - Basic Python"
   ]
  },
  {
   "cell_type": "markdown",
   "metadata": {},
   "source": [
    "### Exercise 1:\n",
    "Create a variable that has an int value and another variable that has a float value. Write code that prints the product (multiply the two variables together).\n",
    "\n",
    "*Hint*: To multiply numbers in Python, use the asterisk sign (*). "
   ]
  },
  {
   "cell_type": "code",
   "execution_count": 1,
   "metadata": {},
   "outputs": [
    {
     "name": "stdout",
     "output_type": "stream",
     "text": [
      "24.0\n"
     ]
    }
   ],
   "source": [
    "x = 6\n",
    "y = 4.0\n",
    "z = x * y\n",
    "print(z)"
   ]
  },
  {
   "cell_type": "markdown",
   "metadata": {},
   "source": [
    "### Exercise 2:\n",
    "\n",
    "Make a list of all the months in the year. Write code that uses a loop to go through the list, print out the month and the number of characters (length) for each month word."
   ]
  },
  {
   "cell_type": "code",
   "execution_count": 16,
   "metadata": {},
   "outputs": [
    {
     "name": "stdout",
     "output_type": "stream",
     "text": [
      "January\n",
      "7\n",
      "February\n",
      "8\n",
      "March\n",
      "5\n",
      "April\n",
      "5\n",
      "May\n",
      "3\n",
      "June\n",
      "4\n",
      "July\n",
      "4\n",
      "August\n",
      "6\n",
      "September\n",
      "9\n",
      "October\n",
      "7\n",
      "November\n",
      "8\n",
      "December\n",
      "8\n"
     ]
    }
   ],
   "source": [
    "months = ['January', 'February', 'March', 'April', 'May', 'June',\n",
    "         'July', 'August', 'September', 'October', 'November', 'December']\n",
    "for month in months:\n",
    "    print(month)\n",
    "    print(len(month))"
   ]
  },
  {
   "cell_type": "code",
   "execution_count": 4,
   "metadata": {},
   "outputs": [
    {
     "name": "stdout",
     "output_type": "stream",
     "text": [
      "12\n"
     ]
    }
   ],
   "source": [
    "print(len(months))"
   ]
  },
  {
   "cell_type": "code",
   "execution_count": null,
   "metadata": {},
   "outputs": [],
   "source": []
  },
  {
   "cell_type": "markdown",
   "metadata": {},
   "source": [
    "### Exercise 3:\n",
    "Create a dictionary with keys \"movie\" and \"season\", with the values being your favorite movie and season. Then write code to print out \"My favorite [key] is [value]\"."
   ]
  },
  {
   "cell_type": "code",
   "execution_count": 18,
   "metadata": {},
   "outputs": [
    {
     "name": "stdout",
     "output_type": "stream",
     "text": [
      "{'The Usual Suspects': 'movie', 'Fall': 'season'}\n"
     ]
    }
   ],
   "source": [
    "My_fav = {'The Usual Suspects' : 'movie',\n",
    "          'Fall' : 'season'}\n",
    "print(My_fav)"
   ]
  },
  {
   "cell_type": "code",
   "execution_count": 21,
   "metadata": {},
   "outputs": [],
   "source": [
    "movies = {'The Usual Suspects' : 'Action',\n",
    "         'Pretty Woman' : 'Romance',\n",
    "         'Avengers' : 'Action',\n",
    "         'Meet the Parents' : 'Comedy'}\n",
    "\n"
   ]
  },
  {
   "cell_type": "code",
   "execution_count": 22,
   "metadata": {},
   "outputs": [
    {
     "name": "stdout",
     "output_type": "stream",
     "text": [
      "{'The Usual Suspects': 'Action', 'Pretty Woman': 'Romance', 'Avengers': 'Action', 'Meet the Parents': 'Comedy'}\n"
     ]
    }
   ],
   "source": [
    "print(movies)"
   ]
  },
  {
   "cell_type": "code",
   "execution_count": 27,
   "metadata": {},
   "outputs": [
    {
     "name": "stdout",
     "output_type": "stream",
     "text": [
      "The Usual Suspects is Action\n",
      "Pretty Woman is Romance\n",
      "Avengers is Action\n",
      "Meet the Parents is Comedy\n"
     ]
    }
   ],
   "source": [
    "for name, genre in movies.items():\n",
    "    print(name +  ' is ' + genre)"
   ]
  },
  {
   "cell_type": "markdown",
   "metadata": {},
   "source": [
    "### Exercise 4:\n",
    "Create a customized function (def) that divides two variables and returns the result of their division. Then call your function using the variables you made in Exercise 1. \n",
    "\n",
    "*Hint*: To divide numbers in Python, use the forward slash (/)."
   ]
  },
  {
   "cell_type": "code",
   "execution_count": 11,
   "metadata": {},
   "outputs": [],
   "source": [
    "# myNum is the name of my function\n",
    "def myNum(a, b):\n",
    "    return a / b"
   ]
  },
  {
   "cell_type": "code",
   "execution_count": 12,
   "metadata": {},
   "outputs": [
    {
     "data": {
      "text/plain": [
       "1.5"
      ]
     },
     "execution_count": 12,
     "metadata": {},
     "output_type": "execute_result"
    }
   ],
   "source": [
    "myNum(x,y)"
   ]
  },
  {
   "cell_type": "code",
   "execution_count": null,
   "metadata": {},
   "outputs": [],
   "source": []
  }
 ],
 "metadata": {
  "kernelspec": {
   "display_name": "Python 3",
   "language": "python",
   "name": "python3"
  },
  "language_info": {
   "codemirror_mode": {
    "name": "ipython",
    "version": 3
   },
   "file_extension": ".py",
   "mimetype": "text/x-python",
   "name": "python",
   "nbconvert_exporter": "python",
   "pygments_lexer": "ipython3",
   "version": "3.7.3"
  }
 },
 "nbformat": 4,
 "nbformat_minor": 2
}
